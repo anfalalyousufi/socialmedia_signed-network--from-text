{
 "cells": [
  {
   "cell_type": "code",
   "execution_count": 14,
   "metadata": {},
   "outputs": [],
   "source": [
    "import json\n",
    "import tweepy"
   ]
  },
  {
   "cell_type": "code",
   "execution_count": 15,
   "metadata": {},
   "outputs": [],
   "source": [
    "access_token = \"1174895776444624896-YfvYGV7tskiD6CWg0PBm4P8ekV3pUc\"\n",
    "access_token_secret = \"WiOBT3BZ2qLrX9owDFxBzORSjqFbKuBg8HvzX6Et7rqgl\"\n",
    "consumer_key = \"CxmWm6ItBRDxiEmwJelzHicqn\"\n",
    "consumer_secret = \"5aK80bORH5YsbhL35AS00LQDcTNPODuzBvC4WsAwHnMwfpWdgc\""
   ]
  },
  {
   "cell_type": "code",
   "execution_count": 16,
   "metadata": {},
   "outputs": [],
   "source": [
    "auth = tweepy.OAuthHandler(consumer_key, consumer_secret)\n",
    "auth.set_access_token(access_token, access_token_secret)"
   ]
  },
  {
   "cell_type": "code",
   "execution_count": 17,
   "metadata": {},
   "outputs": [],
   "source": [
    "api = tweepy.API(auth, parser = tweepy.parsers.JSONParser())"
   ]
  },
  {
   "cell_type": "code",
   "execution_count": 18,
   "metadata": {},
   "outputs": [],
   "source": [
    "searchquery = '\" \" -filter:retweets'"
   ]
  },
  {
   "cell_type": "code",
   "execution_count": 19,
   "metadata": {},
   "outputs": [],
   "source": [
    "data = api.search(q = searchquery, count = 100, lang = 'en', result_type = 'mixed')"
   ]
  },
  {
   "cell_type": "code",
   "execution_count": 20,
   "metadata": {},
   "outputs": [],
   "source": [
    "values = list(data.values())\n",
    "#print(values)"
   ]
  },
  {
   "cell_type": "code",
   "execution_count": 21,
   "metadata": {},
   "outputs": [],
   "source": [
    "import time\n",
    "\n",
    "data = api.search(q = searchquery, count = 100, lang = 'en', result_type = 'mixed')\n",
    "data_all = values[0]\n",
    "\n",
    "while (len(data_all) <= 20000):\n",
    "    time.sleep(5)\n",
    "    last = data_all[-1]['id']\n",
    "    data = api.search(q = searchquery, count = 100, lang = 'en', result_type = 'mixed', max_id = last)\n",
    "    data_all += values[0][1:]"
   ]
  },
  {
   "cell_type": "code",
   "execution_count": 26,
   "metadata": {},
   "outputs": [],
   "source": [
    "tweet = []\n",
    "vs_pos = []\n",
    "vs_neu = []\n",
    "vs_neg = []"
   ]
  },
  {
   "cell_type": "code",
   "execution_count": 27,
   "metadata": {},
   "outputs": [],
   "source": [
    "from vaderSentiment.vaderSentiment import SentimentIntensityAnalyzer\n",
    "analyzer = SentimentIntensityAnalyzer()\n",
    "\n",
    "for i in range(0, len(data_all)):\n",
    "    tweet.append(data_all[i]['text'])\n",
    "    vs_pos.append(analyzer.polarity_scores(data_all[i]['text'])['pos'])\n",
    "    vs_neu.append(analyzer.polarity_scores(data_all[i]['text'])['neu'])\n",
    "    vs_neg.append(analyzer.polarity_scores(data_all[i]['text'])['neg'])"
   ]
  },
  {
   "cell_type": "code",
   "execution_count": 51,
   "metadata": {
    "scrolled": false
   },
   "outputs": [
    {
     "data": {
      "text/html": [
       "<div>\n",
       "<style scoped>\n",
       "    .dataframe tbody tr th:only-of-type {\n",
       "        vertical-align: middle;\n",
       "    }\n",
       "\n",
       "    .dataframe tbody tr th {\n",
       "        vertical-align: top;\n",
       "    }\n",
       "\n",
       "    .dataframe thead th {\n",
       "        text-align: right;\n",
       "    }\n",
       "</style>\n",
       "<table border=\"1\" class=\"dataframe\">\n",
       "  <thead>\n",
       "    <tr style=\"text-align: right;\">\n",
       "      <th></th>\n",
       "      <th>Tweet</th>\n",
       "      <th>Positive</th>\n",
       "      <th>Neutral</th>\n",
       "      <th>Negative</th>\n",
       "    </tr>\n",
       "  </thead>\n",
       "  <tbody>\n",
       "    <tr>\n",
       "      <th>0</th>\n",
       "      <td>Let’s try it again. 💜💜💜 #MAMAVOTE #BTS @BTS_tw...</td>\n",
       "      <td>0.182</td>\n",
       "      <td>0.818</td>\n",
       "      <td>0.000</td>\n",
       "    </tr>\n",
       "    <tr>\n",
       "      <th>1</th>\n",
       "      <td>#WeMadeIt is out now! https://t.co/ZmjE2kvEay ...</td>\n",
       "      <td>0.000</td>\n",
       "      <td>1.000</td>\n",
       "      <td>0.000</td>\n",
       "    </tr>\n",
       "    <tr>\n",
       "      <th>2</th>\n",
       "      <td>Everything is MAMA. @BTS_twt #MAMAvote https:/...</td>\n",
       "      <td>0.000</td>\n",
       "      <td>1.000</td>\n",
       "      <td>0.000</td>\n",
       "    </tr>\n",
       "    <tr>\n",
       "      <th>3</th>\n",
       "      <td>@U2start Omg yrs pasting to quickly</td>\n",
       "      <td>0.000</td>\n",
       "      <td>1.000</td>\n",
       "      <td>0.000</td>\n",
       "    </tr>\n",
       "    <tr>\n",
       "      <th>4</th>\n",
       "      <td>@ChrisSalts @KHMakerD I do like Darnold. So I ...</td>\n",
       "      <td>0.265</td>\n",
       "      <td>0.618</td>\n",
       "      <td>0.116</td>\n",
       "    </tr>\n",
       "  </tbody>\n",
       "</table>\n",
       "</div>"
      ],
      "text/plain": [
       "                                               Tweet  Positive  Neutral  \\\n",
       "0  Let’s try it again. 💜💜💜 #MAMAVOTE #BTS @BTS_tw...     0.182    0.818   \n",
       "1  #WeMadeIt is out now! https://t.co/ZmjE2kvEay ...     0.000    1.000   \n",
       "2  Everything is MAMA. @BTS_twt #MAMAvote https:/...     0.000    1.000   \n",
       "3                @U2start Omg yrs pasting to quickly     0.000    1.000   \n",
       "4  @ChrisSalts @KHMakerD I do like Darnold. So I ...     0.265    0.618   \n",
       "\n",
       "   Negative  \n",
       "0     0.000  \n",
       "1     0.000  \n",
       "2     0.000  \n",
       "3     0.000  \n",
       "4     0.116  "
      ]
     },
     "execution_count": 51,
     "metadata": {},
     "output_type": "execute_result"
    }
   ],
   "source": [
    "from pandas import Series, DataFrame\n",
    "\n",
    "twitter_df = DataFrame({'Tweet': tweet,\n",
    "                        'Positive': vs_pos,\n",
    "                        'Neutral': vs_neu,\n",
    "                        'Negative': vs_neg})\n",
    "twitter_df = twitter_df[['Tweet',\n",
    "                         'Positive', 'Neutral', 'Negative']]\n",
    "\n",
    "# Have a look at the top 5 results.\n",
    "output_file = open(\"JSON_Sentiment_Results.txt\", \"w\")\n",
    "#print(twitter_df)\n",
    "twitter_df.head()"
   ]
  },
  {
   "cell_type": "code",
   "execution_count": 48,
   "metadata": {},
   "outputs": [],
   "source": [
    "twitter_df.to_csv(r'/Users/taracopas/Desktop/JSON_Sentiment_Results.csv')"
   ]
  },
  {
   "cell_type": "code",
   "execution_count": null,
   "metadata": {},
   "outputs": [],
   "source": []
  }
 ],
 "metadata": {
  "kernelspec": {
   "display_name": "Python 3",
   "language": "python",
   "name": "python3"
  },
  "language_info": {
   "codemirror_mode": {
    "name": "ipython",
    "version": 3
   },
   "file_extension": ".py",
   "mimetype": "text/x-python",
   "name": "python",
   "nbconvert_exporter": "python",
   "pygments_lexer": "ipython3",
   "version": "3.7.3"
  }
 },
 "nbformat": 4,
 "nbformat_minor": 2
}
